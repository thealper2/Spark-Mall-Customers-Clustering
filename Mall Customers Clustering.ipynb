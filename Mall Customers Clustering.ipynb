{
 "cells": [
  {
   "cell_type": "code",
   "execution_count": null,
   "id": "89892816",
   "metadata": {},
   "outputs": [],
   "source": [
    "import findspark\n",
    "findspark.init()"
   ]
  },
  {
   "cell_type": "code",
   "execution_count": null,
   "id": "ebc2196f",
   "metadata": {},
   "outputs": [],
   "source": [
    "from pyspark.sql import SparkSession\n",
    "\n",
    "spark = SparkSession.builder \\\n",
    ".master(\"local[4]\") \\\n",
    ".appName(\"MallCustomersClustering\") \\\n",
    ".config(\"spark.executor.memory\", \"1g\") \\\n",
    ".config(\"spark.driver.memory\", \"1g\") \\\n",
    ".getOrCreate()"
   ]
  },
  {
   "cell_type": "code",
   "execution_count": null,
   "id": "3c244dbf",
   "metadata": {},
   "outputs": [],
   "source": [
    "mall = spark.read \\\n",
    ".option(\"header\", True) \\\n",
    ".option(\"inferSchema\", True) \\\n",
    ".option(\"sep\", \",\") \\\n",
    ".csv(\"/home/alper/Spark/data/Mall_Customers.csv\")"
   ]
  },
  {
   "cell_type": "code",
   "execution_count": null,
   "id": "f40728f0",
   "metadata": {},
   "outputs": [],
   "source": [
    "mall.limit(5).toPandas().head()"
   ]
  },
  {
   "cell_type": "code",
   "execution_count": null,
   "id": "b97fa335",
   "metadata": {},
   "outputs": [],
   "source": [
    "mall.printSchema()"
   ]
  },
  {
   "cell_type": "code",
   "execution_count": null,
   "id": "d854a910",
   "metadata": {},
   "outputs": [],
   "source": [
    "numeric = [\"CustomerID\", \"Age\", \"Annual Income (k$)\", \"Spending Score (1-100)\"]\n",
    "categorical = [\"Gender\"] "
   ]
  },
  {
   "cell_type": "code",
   "execution_count": null,
   "id": "c15a2011",
   "metadata": {},
   "outputs": [],
   "source": [
    "mall.describe(numeric).show()"
   ]
  },
  {
   "cell_type": "code",
   "execution_count": null,
   "id": "270213af",
   "metadata": {},
   "outputs": [],
   "source": [
    "from pyspark.ml.feature import VectorAssembler, StandardScaler"
   ]
  },
  {
   "cell_type": "code",
   "execution_count": null,
   "id": "cb7e9b86",
   "metadata": {},
   "outputs": [],
   "source": [
    "vector_assembler = VectorAssembler() \\\n",
    ".setInputCols([\"Annual Income (k$)\", \"Spending Score (1-100)\"]) \\\n",
    ".setOutputCol(\"features\")"
   ]
  },
  {
   "cell_type": "code",
   "execution_count": null,
   "id": "f1490919",
   "metadata": {},
   "outputs": [],
   "source": [
    "standard_scaler = StandardScaler() \\\n",
    ".setInputCol(\"features\") \\\n",
    ".setOutputCol(\"features_scaled\")"
   ]
  },
  {
   "cell_type": "code",
   "execution_count": null,
   "id": "815a5815",
   "metadata": {},
   "outputs": [],
   "source": [
    "mall.limit(5).toPandas().head()"
   ]
  },
  {
   "cell_type": "code",
   "execution_count": null,
   "id": "f40afc7e",
   "metadata": {},
   "outputs": [],
   "source": [
    "from pyspark.ml.clustering import KMeans\n",
    "from pyspark.ml import Pipeline\n",
    "\n",
    "def clustering(mall, k):\n",
    "    kmeans_object = KMeans() \\\n",
    "    .setK(k) \\\n",
    "    .setSeed(4242) \\\n",
    "    .setFeaturesCol(\"features_scaled\") \\\n",
    "    .setPredictionCol(\"cluster\")\n",
    "    \n",
    "    pipe = Pipeline() \\\n",
    "    .setStages([vector_assembler, standard_scaler, kmeans_object])\n",
    "    \n",
    "    pipe_model = pipe.fit(mall)\n",
    "    return pipe_model"
   ]
  },
  {
   "cell_type": "code",
   "execution_count": null,
   "id": "a74d1911",
   "metadata": {},
   "outputs": [],
   "source": [
    "from pyspark.ml.evaluation import ClusteringEvaluator\n",
    "\n",
    "for k in range(2, 11):\n",
    "    pipe_model = clustering(mall, k)\n",
    "    transformedDF = pipe_model.transform(mall)\n",
    "    \n",
    "    evaluator = ClusteringEvaluator() \\\n",
    "    .setFeaturesCol(\"features_scaled\") \\\n",
    "    .setPredictionCol(\"cluster\") \\\n",
    "    .setMetricName(\"silhouette\")\n",
    "    \n",
    "    score = evaluator.evaluate(transformedDF)\n",
    "    print(k, \"-\", score)"
   ]
  },
  {
   "cell_type": "code",
   "execution_count": null,
   "id": "a9736d25",
   "metadata": {},
   "outputs": [],
   "source": []
  }
 ],
 "metadata": {
  "kernelspec": {
   "display_name": "Python 3 (ipykernel)",
   "language": "python",
   "name": "python3"
  },
  "language_info": {
   "codemirror_mode": {
    "name": "ipython",
    "version": 3
   },
   "file_extension": ".py",
   "mimetype": "text/x-python",
   "name": "python",
   "nbconvert_exporter": "python",
   "pygments_lexer": "ipython3",
   "version": "3.10.6"
  }
 },
 "nbformat": 4,
 "nbformat_minor": 5
}
